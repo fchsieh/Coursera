{
 "cells": [
  {
   "cell_type": "markdown",
   "source": "# Programming Exercise 2: Logistic Regression\n\n## Introduction\n\nIn this exercise, you will implement logistic regression and apply it to two different datasets. Before starting on the programming exercise, we strongly recommend watching the video lectures and completing the review questions for the associated topics.\n\nAll the information you need for solving this assignment is in this notebook, and all the code you will be implementing will take place within this notebook. The assignment can be promptly submitted to the coursera grader directly from this notebook (code and instructions are included below).\n\nBefore we begin with the exercises, we need to import all libraries required for this programming exercise. Throughout the course, we will be using [`numpy`](http://www.numpy.org/) for all arrays and matrix operations, and [`matplotlib`](https://matplotlib.org/) for plotting. In this assignment, we will also use [`scipy`](https://docs.scipy.org/doc/scipy/reference/), which contains scientific and numerical computation functions and tools. \n\nYou can find instructions on how to install required libraries in the README file in the [github repository](https://github.com/dibgerge/ml-coursera-python-assignments).",
   "metadata": {
    "cell_id": "00000-b664fed5-ca53-4214-bf59-553d576b0bb7",
    "deepnote_cell_type": "markdown"
   }
  },
  {
   "cell_type": "code",
   "metadata": {
    "cell_id": "00001-03d439ad-cc5f-4901-ba40-10487ba1c6af",
    "deepnote_to_be_reexecuted": false,
    "source_hash": "76e434d5",
    "execution_millis": 2120,
    "execution_start": 1618843684924,
    "deepnote_cell_type": "code"
   },
   "source": "# used for manipulating directory paths\nimport os\n\n# Scientific and vector computation for python\nimport numpy as np\n\n# Plotting library\nfrom matplotlib import pyplot\n\n# Optimization module in scipy\nfrom scipy import optimize\n\n# library written for this exercise providing additional functions for assignment submission, and others\nimport utils\n\n# define the submission/grader object for this exercise\ngrader = utils.Grader()\n\n# tells matplotlib to embed plots within the notebook\n%matplotlib inline",
   "execution_count": null,
   "outputs": []
  },
  {
   "cell_type": "markdown",
   "source": "## Submission and Grading\n\n\nAfter completing each part of the assignment, be sure to submit your solutions to the grader. The following is a breakdown of how each part of this exercise is scored.\n\n\n| Section | Part                                 | Submission function   | Points \n| :-      |:-                                    | :-                    | :-:\n| 1       | [Sigmoid Function](#section1)                   | [`sigmoid`](#sigmoid) | 5      \n| 2       | [Compute cost for logistic regression](#section2) | [`costFunction`](#costFunction) | 30     \n| 3       | [Gradient for logistic regression](#section2)     | [`costFunction`](#costFunction) | 30     \n| 4       | [Predict Function](#section4)                     | [`predict`](#predict) | 5      \n| 5       | [Compute cost for regularized LR](#section5)      | [`costFunctionReg`](#costFunctionReg) | 15     \n| 6       | [Gradient for regularized LR](#section5)          | [`costFunctionReg`](#costFunctionReg) | 15     \n|         | Total Points                         | | 100    \n\n\n\nYou are allowed to submit your solutions multiple times, and we will take only the highest score into consideration.\n\n<div class=\"alert alert-block alert-warning\">\nAt the end of each section in this notebook, we have a cell which contains code for submitting the solutions thus far to the grader. Execute the cell to see your score up to the current section. For all your work to be submitted properly, you must execute those cells at least once. They must also be re-executed everytime the submitted function is updated.\n</div>\n",
   "metadata": {
    "cell_id": "00002-c0104038-f2e7-49b6-a76c-a439eab30467",
    "deepnote_cell_type": "markdown"
   }
  },
  {
   "cell_type": "markdown",
   "source": "## 1 Logistic Regression\n\nIn this part of the exercise, you will build a logistic regression model to predict whether a student gets admitted into a university. Suppose that you are the administrator of a university department and\nyou want to determine each applicant’s chance of admission based on their results on two exams. You have historical data from previous applicants that you can use as a training set for logistic regression. For each training example, you have the applicant’s scores on two exams and the admissions\ndecision. Your task is to build a classification model that estimates an applicant’s probability of admission based the scores from those two exams. \n\nThe following cell will load the data and corresponding labels:",
   "metadata": {
    "cell_id": "00003-7aab1643-5bea-4f93-9af5-e4b045531ad6",
    "deepnote_cell_type": "markdown"
   }
  },
  {
   "cell_type": "code",
   "metadata": {
    "cell_id": "00004-3bb15188-4cb6-4b2c-bc74-9119e89ee8f4",
    "deepnote_to_be_reexecuted": false,
    "source_hash": "f019ff8e",
    "execution_millis": 0,
    "execution_start": 1618843996503,
    "deepnote_cell_type": "code"
   },
   "source": "# Load data\n# The first two columns contains the exam scores and the third column\n# contains the label.\ndata = np.loadtxt(os.path.join('Data', 'ex2data1.txt'), delimiter=',')\nX, y = data[:, 0:2], data[:, 2]",
   "execution_count": null,
   "outputs": []
  },
  {
   "cell_type": "markdown",
   "source": "### 1.1 Visualizing the data\n\nBefore starting to implement any learning algorithm, it is always good to visualize the data if possible. We  display the data on a 2-dimensional plot by calling the function `plotData`. You will now complete the code in `plotData` so that it displays a figure where the axes are the two exam scores, and the positive and negative examples are shown with different markers.\n\nTo help you get more familiar with plotting, we have left `plotData` empty so you can try to implement it yourself. However, this is an optional (ungraded) exercise. We also provide our implementation below so you can\ncopy it or refer to it. If you choose to copy our example, make sure you learn\nwhat each of its commands is doing by consulting the `matplotlib` and `numpy` documentation.\n\n```python\n# Find Indices of Positive and Negative Examples\npos = y == 1\nneg = y == 0\n\n# Plot Examples\npyplot.plot(X[pos, 0], X[pos, 1], 'k*', lw=2, ms=10)\npyplot.plot(X[neg, 0], X[neg, 1], 'ko', mfc='y', ms=8, mec='k', mew=1)\n```",
   "metadata": {
    "cell_id": "00005-307c4a24-3773-4d70-bd08-e9bd2153f59e",
    "deepnote_cell_type": "markdown"
   }
  },
  {
   "cell_type": "code",
   "metadata": {
    "cell_id": "00006-0168a35e-c933-4b68-852f-9eac440636a3",
    "deepnote_to_be_reexecuted": false,
    "source_hash": "72bdda15",
    "execution_millis": 1,
    "execution_start": 1618846223219,
    "deepnote_cell_type": "code"
   },
   "source": "def plotData(X, y):\n    \"\"\"\n    Plots the data points X and y into a new figure. Plots the data \n    points with * for the positive examples and o for the negative examples.\n    \n    Parameters\n    ----------\n    X : array_like\n        An Mx2 matrix representing the dataset. \n    \n    y : array_like\n        Label values for the dataset. A vector of size (M, ).\n    \n    Instructions\n    ------------\n    Plot the positive and negative examples on a 2D plot, using the\n    option 'k*' for the positive examples and 'ko' for the negative examples.    \n    \"\"\"\n    # Create New Figure\n    fig = pyplot.figure()\n\n    # ====================== YOUR CODE HERE ======================\n    for i in range(len(X)):\n        if y[i] == 1:\n            pyplot.plot(X[i, 0], X[i, 1], \"k*\", label=\"Admitted\", c=\"red\")\n        else:\n            pyplot.plot(X[i, 0], X[i, 1], \"ko\", label=\"Not admitted\", c=\"blue\")\n\n    \n    # ============================================================",
   "execution_count": null,
   "outputs": []
  },
  {
   "cell_type": "markdown",
   "source": "Now, we call the implemented function to display the loaded data:",
   "metadata": {
    "cell_id": "00007-ed3ee2ac-b5ea-4377-9964-6f475498e634",
    "deepnote_cell_type": "markdown"
   }
  },
  {
   "cell_type": "code",
   "metadata": {
    "cell_id": "00008-14f77e6f-f56d-44b5-a437-a39030fae828",
    "deepnote_to_be_reexecuted": false,
    "source_hash": "afef85a4",
    "execution_millis": 373,
    "execution_start": 1618846262098,
    "deepnote_cell_type": "code"
   },
   "source": "plotData(X, y)\n# add axes labels\npyplot.xlabel('Exam 1 score')\npyplot.ylabel('Exam 2 score')\npyplot.legend(['Admitted', 'Not admitted'])\npass",
   "execution_count": null,
   "outputs": [
    {
     "name": "stderr",
     "text": "/shared-libs/python3.7/py-core/lib/python3.7/site-packages/ipykernel_launcher.py:27: UserWarning: color is redundantly defined by the 'color' keyword argument and the fmt string \"ko\" (-> color='k'). The keyword argument will take precedence.\n/shared-libs/python3.7/py-core/lib/python3.7/site-packages/ipykernel_launcher.py:25: UserWarning: color is redundantly defined by the 'color' keyword argument and the fmt string \"k*\" (-> color='k'). The keyword argument will take precedence.\n",
     "output_type": "stream"
    },
    {
     "data": {
      "text/plain": "<Figure size 432x288 with 1 Axes>",
      "image/png": "[encoded data removed]"
     },
     "metadata": {
      "needs_background": "light",
      "image/png": {
       "width": 389,
       "height": 262
      }
     },
     "output_type": "display_data"
    }
   ]
  },
  {
   "cell_type": "markdown",
   "source": "<a id=\"section1\"></a>\n### 1.2 Implementation\n\n#### 1.2.1 Warmup exercise: sigmoid function\n\nBefore you start with the actual cost function, recall that the logistic regression hypothesis is defined as:\n\n$$ h_\\theta(x) = g(\\theta^T x)$$\n\nwhere function $g$ is the sigmoid function. The sigmoid function is defined as: \n\n$$g(z) = \\frac{1}{1+e^{-z}}$$.\n\nYour first step is to implement this function `sigmoid` so it can be\ncalled by the rest of your program. When you are finished, try testing a few\nvalues by calling `sigmoid(x)` in a new cell. For large positive values of `x`, the sigmoid should be close to 1, while for large negative values, the sigmoid should be close to 0. Evaluating `sigmoid(0)` should give you exactly 0.5. Your code should also work with vectors and matrices. **For a matrix, your function should perform the sigmoid function on every element.**\n<a id=\"sigmoid\"></a>",
   "metadata": {
    "cell_id": "00009-f324f9e1-a708-4f08-bf37-338f372cbd02",
    "deepnote_cell_type": "markdown"
   }
  },
  {
   "cell_type": "code",
   "metadata": {
    "cell_id": "00010-bd2967f5-1399-432e-bb6c-02e389156535",
    "deepnote_to_be_reexecuted": false,
    "source_hash": "581c7bd5",
    "execution_millis": 1,
    "execution_start": 1618847073538,
    "deepnote_cell_type": "code"
   },
   "source": "def sigmoid(z):\n    \"\"\"\n    Compute sigmoid function given the input z.\n    \n    Parameters\n    ----------\n    z : array_like\n        The input to the sigmoid function. This can be a 1-D vector \n        or a 2-D matrix. \n    \n    Returns\n    -------\n    g : array_like\n        The computed sigmoid function. g has the same shape as z, since\n        the sigmoid is computed element-wise on z.\n        \n    Instructions\n    ------------\n    Compute the sigmoid of each value of z (z can be a matrix, vector or scalar).\n    \"\"\"\n    # convert input to a numpy array\n    z = np.array(z)\n    \n    # You need to return the following variables correctly \n    g = np.zeros(z.shape)\n\n    # ====================== YOUR CODE HERE ======================\n    g = 1 / ( 1 + np.exp(-z))\n    \n\n    # =============================================================\n    return g",
   "execution_count": null,
   "outputs": []
  },
  {
   "cell_type": "markdown",
   "source": "The following cell evaluates the sigmoid function at `z=0`. You should get a value of 0.5. You can also try different values for `z` to experiment with the sigmoid function.",
   "metadata": {
    "cell_id": "00011-73f93b6c-856a-458f-b1d7-b5641f1a3103",
    "deepnote_cell_type": "markdown"
   }
  },
  {
   "cell_type": "code",
   "metadata": {
    "cell_id": "00012-d532d9b4-8f61-4ad1-9ab6-c53c3f384e07",
    "deepnote_to_be_reexecuted": false,
    "source_hash": "cbb5c27d",
    "execution_millis": 13,
    "execution_start": 1618847074080,
    "deepnote_cell_type": "code"
   },
   "source": "# Test the implementation of sigmoid function here\nz = [0, 1,6]\ng = sigmoid(z)\n\nprint('g(', z, ') = ', g)",
   "execution_count": null,
   "outputs": [
    {
     "name": "stdout",
     "text": "g( [0, 1, 6] ) =  [0.5        0.73105858 0.99752738]\n",
     "output_type": "stream"
    }
   ]
  },
  {
   "cell_type": "markdown",
   "source": "After completing a part of the exercise, you can submit your solutions for grading by first adding the function you modified to the submission object, and then sending your function to Coursera for grading. \n\nThe submission script will prompt you for your login e-mail and submission token. You can obtain a submission token from the web page for the assignment. You are allowed to submit your solutions multiple times, and we will take only the highest score into consideration.\n\nExecute the following cell to grade your solution to the first part of this exercise.\n\n*You should now submit your solutions.*",
   "metadata": {
    "cell_id": "00013-d2619eac-32a7-4efd-b7e1-77305213d396",
    "deepnote_cell_type": "markdown"
   }
  },
  {
   "cell_type": "code",
   "metadata": {
    "cell_id": "00014-1f34af36-4eae-4551-8452-26a6582db023",
    "deepnote_to_be_reexecuted": false,
    "source_hash": "64f57559",
    "execution_millis": 3599,
    "execution_start": 1618847078219,
    "deepnote_cell_type": "code"
   },
   "source": "# appends the implemented function in part 1 to the grader object\ngrader[1] = sigmoid\n\n# send the added functions to coursera grader for getting a grade on this part\ngrader.grade()\n",
   "execution_count": null,
   "outputs": [
    {
     "name": "stdout",
     "text": "\nSubmitting Solutions | Programming Exercise logistic-regression\n\n                                  Part Name |     Score | Feedback\n                                  --------- |     ----- | --------\n                           Sigmoid Function |   5 /   5 | Nice work!\n                   Logistic Regression Cost |   0 /  30 | \n               Logistic Regression Gradient |   0 /  30 | \n                                    Predict |   0 /   5 | \n       Regularized Logistic Regression Cost |   0 /  15 | \n   Regularized Logistic Regression Gradient |   0 /  15 | \n                                  --------------------------------\n                                            |   5 / 100 |  \n\n",
     "output_type": "stream"
    }
   ]
  },
  {
   "cell_type": "markdown",
   "source": "<a id=\"section2\"></a>\n#### 1.2.2 Cost function and gradient\n\nNow you will implement the cost function and gradient for logistic regression. Before proceeding we add the intercept term to X. ",
   "metadata": {
    "cell_id": "00015-db7047e8-e459-4f5d-ad16-27a8367ddac3",
    "deepnote_cell_type": "markdown"
   }
  },
  {
   "cell_type": "code",
   "metadata": {
    "cell_id": "00016-9e802f2f-9444-4dfe-8e7a-1b7204948441",
    "deepnote_to_be_reexecuted": false,
    "source_hash": "ad5575d5",
    "execution_start": 1618847094091,
    "execution_millis": 2,
    "deepnote_cell_type": "code"
   },
   "source": "# Setup the data matrix appropriately, and add ones for the intercept term\nm, n = X.shape\n\n# Add intercept term to X\nX = np.concatenate([np.ones((m, 1)), X], axis=1)",
   "execution_count": null,
   "outputs": []
  },
  {
   "cell_type": "markdown",
   "source": "Now, complete the code for the function `costFunction` to return the cost and gradient. Recall that the cost function in logistic regression is\n\n$$ J(\\theta) = \\frac{1}{m} \\sum_{i=1}^{m} \\left[ -y^{(i)} \\log\\left(h_\\theta\\left( x^{(i)} \\right) \\right) - \\left( 1 - y^{(i)}\\right) \\log \\left( 1 - h_\\theta\\left( x^{(i)} \\right) \\right) \\right]$$\n\nand the gradient of the cost is a vector of the same length as $\\theta$ where the $j^{th}$\nelement (for $j = 0, 1, \\cdots , n$) is defined as follows:\n\n$$ \\frac{\\partial J(\\theta)}{\\partial \\theta_j} = \\frac{1}{m} \\sum_{i=1}^m \\left( h_\\theta \\left( x^{(i)} \\right) - y^{(i)} \\right) x_j^{(i)} $$\n\nNote that while this gradient looks identical to the linear regression gradient, the formula is actually different because linear and logistic regression have different definitions of $h_\\theta(x)$.\n<a id=\"costFunction\"></a>",
   "metadata": {
    "cell_id": "00017-f768e283-4d1a-4e0b-bc6d-fd6d0c74b649",
    "deepnote_cell_type": "markdown"
   }
  },
  {
   "cell_type": "code",
   "metadata": {
    "cell_id": "00018-fcf2094e-41ee-46dd-9f52-bf9666ac713a",
    "deepnote_to_be_reexecuted": false,
    "source_hash": "1a4322bc",
    "execution_millis": 3,
    "execution_start": 1618848665558,
    "deepnote_cell_type": "code"
   },
   "source": "def costFunction(theta, X, y):\n    \"\"\"\n    Compute cost and gradient for logistic regression. \n    \n    Parameters\n    ----------\n    theta : array_like\n        The parameters for logistic regression. This a vector\n        of shape (n+1, ).\n    \n    X : array_like\n        The input dataset of shape (m x n+1) where m is the total number\n        of data points and n is the number of features. We assume the \n        intercept has already been added to the input.\n    \n    y : arra_like\n        Labels for the input. This is a vector of shape (m, ).\n    \n    Returns\n    -------\n    J : float\n        The computed value for the cost function. \n    \n    grad : array_like\n        A vector of shape (n+1, ) which is the gradient of the cost\n        function with respect to theta, at the current values of theta.\n        \n    Instructions\n    ------------\n    Compute the cost of a particular choice of theta. You should set J to \n    the cost. Compute the partial derivatives and set grad to the partial\n    derivatives of the cost w.r.t. each parameter in theta.\n    \"\"\"\n    # Initialize some useful values\n    m = y.size  # number of training examples\n\n    # You need to return the following variables correctly \n    J = 0\n    grad = np.zeros(theta.shape)\n\n    # ====================== YOUR CODE HERE ======================\n    hypo = sigmoid(theta @ X.T)\n    J = 1/m * (np.sum(-y * np.log(hypo) - (1-y) * np.log(1-hypo)))\n    for i in range(len(X)):\n        grad[0] += 1/m * (hypo-y)[i] * X[i][0]\n        grad[1] += 1/m * (hypo-y)[i] * X[i][1]\n        grad[2] += 1/m * (hypo-y)[i] * X[i][2]\n    \n    # =============================================================\n    return J, grad",
   "execution_count": null,
   "outputs": []
  },
  {
   "cell_type": "markdown",
   "source": "Once you are done call your `costFunction` using two test cases for  $\\theta$ by executing the next cell.",
   "metadata": {
    "cell_id": "00019-47120359-547a-436f-ae4c-178e010e0092",
    "deepnote_cell_type": "markdown"
   }
  },
  {
   "cell_type": "code",
   "metadata": {
    "cell_id": "00020-80e232a7-5dfd-4d49-876a-394fb3d54fe0",
    "deepnote_to_be_reexecuted": false,
    "source_hash": "5aed2a",
    "execution_millis": 32,
    "execution_start": 1618848666004,
    "deepnote_cell_type": "code"
   },
   "source": "# Initialize fitting parameters\ninitial_theta = np.zeros(n+1)\n\ncost, grad = costFunction(initial_theta, X, y)\n\nprint('Cost at initial theta (zeros): {:.3f}'.format(cost))\nprint('Expected cost (approx): 0.693\\n')\n\nprint('Gradient at initial theta (zeros):')\nprint('\\t[{:.4f}, {:.4f}, {:.4f}]'.format(*grad))\nprint('Expected gradients (approx):\\n\\t[-0.1000, -12.0092, -11.2628]\\n')\n\n# Compute and display cost and gradient with non-zero theta\ntest_theta = np.array([-24, 0.2, 0.2])\ncost, grad = costFunction(test_theta, X, y)\n\nprint('Cost at test theta: {:.3f}'.format(cost))\nprint('Expected cost (approx): 0.218\\n')\n\nprint('Gradient at test theta:')\nprint('\\t[{:.3f}, {:.3f}, {:.3f}]'.format(*grad))\nprint('Expected gradients (approx):\\n\\t[0.043, 2.566, 2.647]')",
   "execution_count": null,
   "outputs": [
    {
     "name": "stdout",
     "text": "Cost at initial theta (zeros): 0.693\nExpected cost (approx): 0.693\n\nGradient at initial theta (zeros):\n\t[-0.1000, -12.0092, -11.2628]\nExpected gradients (approx):\n\t[-0.1000, -12.0092, -11.2628]\n\nCost at test theta: 0.218\nExpected cost (approx): 0.218\n\nGradient at test theta:\n\t[0.043, 2.566, 2.647]\nExpected gradients (approx):\n\t[0.043, 2.566, 2.647]\n",
     "output_type": "stream"
    }
   ]
  },
  {
   "cell_type": "markdown",
   "source": "*You should now submit your solutions.*",
   "metadata": {
    "cell_id": "00021-8a484815-a316-420b-bec0-283b6350880a",
    "deepnote_cell_type": "markdown"
   }
  },
  {
   "cell_type": "code",
   "metadata": {
    "cell_id": "00022-fd33f248-2bc1-45ac-ab79-27d9f705b0e0",
    "deepnote_to_be_reexecuted": false,
    "source_hash": "327c0e69",
    "execution_start": 1618848672543,
    "execution_millis": 2780,
    "deepnote_cell_type": "code"
   },
   "source": "grader[2] = costFunction\ngrader[3] = costFunction\ngrader.grade()",
   "execution_count": null,
   "outputs": [
    {
     "name": "stdout",
     "text": "\nSubmitting Solutions | Programming Exercise logistic-regression\n\n                                  Part Name |     Score | Feedback\n                                  --------- |     ----- | --------\n                           Sigmoid Function |   5 /   5 | Nice work!\n                   Logistic Regression Cost |  30 /  30 | Nice work!\n               Logistic Regression Gradient |  30 /  30 | Nice work!\n                                    Predict |   0 /   5 | \n       Regularized Logistic Regression Cost |   0 /  15 | \n   Regularized Logistic Regression Gradient |   0 /  15 | \n                                  --------------------------------\n                                            |  65 / 100 |  \n\n",
     "output_type": "stream"
    }
   ]
  },
  {
   "cell_type": "markdown",
   "source": "#### 1.2.3 Learning parameters using `scipy.optimize`\n\nIn the previous assignment, you found the optimal parameters of a linear regression model by implementing gradient descent. You wrote a cost function and calculated its gradient, then took a gradient descent step accordingly. This time, instead of taking gradient descent steps, you will use the [`scipy.optimize` module](https://docs.scipy.org/doc/scipy/reference/optimize.html). SciPy is a numerical computing library for `python`. It provides an optimization module for root finding and minimization. As of `scipy 1.0`, the function `scipy.optimize.minimize` is the method to use for optimization problems(both constrained and unconstrained).\n\nFor logistic regression, you want to optimize the cost function $J(\\theta)$ with parameters $\\theta$.\nConcretely, you are going to use `optimize.minimize` to find the best parameters $\\theta$ for the logistic regression cost function, given a fixed dataset (of X and y values). You will pass to `optimize.minimize` the following inputs:\n- `costFunction`: A cost function that, when given the training set and a particular $\\theta$, computes the logistic regression cost and gradient with respect to $\\theta$ for the dataset (X, y). It is important to note that we only pass the name of the function without the parenthesis. This indicates that we are only providing a reference to this function, and not evaluating the result from this function.\n- `initial_theta`: The initial values of the parameters we are trying to optimize.\n- `(X, y)`: These are additional arguments to the cost function.\n- `jac`: Indication if the cost function returns the Jacobian (gradient) along with cost value. (True)\n- `method`: Optimization method/algorithm to use\n- `options`: Additional options which might be specific to the specific optimization method. In the following, we only tell the algorithm the maximum number of iterations before it terminates.\n\nIf you have completed the `costFunction` correctly, `optimize.minimize` will converge on the right optimization parameters and return the final values of the cost and $\\theta$ in a class object. Notice that by using `optimize.minimize`, you did not have to write any loops yourself, or set a learning rate like you did for gradient descent. This is all done by `optimize.minimize`: you only needed to provide a function calculating the cost and the gradient.\n\nIn the following, we already have code written to call `optimize.minimize` with the correct arguments.",
   "metadata": {
    "cell_id": "00023-0287d771-e57a-4725-8608-8bd751d2821a",
    "deepnote_cell_type": "markdown"
   }
  },
  {
   "cell_type": "code",
   "metadata": {
    "cell_id": "00024-9fdb878d-0732-4243-a44e-2be9c29c4787",
    "deepnote_to_be_reexecuted": false,
    "source_hash": "39241ac",
    "execution_start": 1618848688209,
    "execution_millis": 8,
    "deepnote_cell_type": "code"
   },
   "source": "# set options for optimize.minimize\noptions= {'maxiter': 400}\n\n# see documention for scipy's optimize.minimize  for description about\n# the different parameters\n# The function returns an object `OptimizeResult`\n# We use truncated Newton algorithm for optimization which is \n# equivalent to MATLAB's fminunc\n# See https://stackoverflow.com/questions/18801002/fminunc-alternate-in-numpy\nres = optimize.minimize(costFunction,\n                        initial_theta,\n                        (X, y),\n                        jac=True,\n                        method='TNC',\n                        options=options)\n\n# the fun property of `OptimizeResult` object returns\n# the value of costFunction at optimized theta\ncost = res.fun\n\n# the optimized theta is in the x property\ntheta = res.x\n\n# Print theta to screen\nprint('Cost at theta found by optimize.minimize: {:.3f}'.format(cost))\nprint('Expected cost (approx): 0.203\\n');\n\nprint('theta:')\nprint('\\t[{:.3f}, {:.3f}, {:.3f}]'.format(*theta))\nprint('Expected theta (approx):\\n\\t[-25.161, 0.206, 0.201]')",
   "execution_count": null,
   "outputs": [
    {
     "name": "stdout",
     "text": "Cost at theta found by optimize.minimize: 0.203\nExpected cost (approx): 0.203\n\ntheta:\n\t[-25.161, 0.206, 0.201]\nExpected theta (approx):\n\t[-25.161, 0.206, 0.201]\n",
     "output_type": "stream"
    }
   ]
  },
  {
   "cell_type": "markdown",
   "source": "Once `optimize.minimize` completes, we want to use the final value for $\\theta$ to visualize the decision boundary on the training data as shown in the figure below. \n\n![](Figures/decision_boundary1.png)\n\nTo do so, we have written a function `plotDecisionBoundary` for plotting the decision boundary on top of training data. You do not need to write any code for plotting the decision boundary, but we also encourage you to look at the code in `plotDecisionBoundary` to see how to plot such a boundary using the $\\theta$ values. You can find this function in the `utils.py` file which comes with this assignment.",
   "metadata": {
    "cell_id": "00025-f6f82446-9f32-404b-b368-49bd278091c5",
    "deepnote_cell_type": "markdown"
   }
  },
  {
   "cell_type": "code",
   "metadata": {
    "cell_id": "00026-d766f6aa-7483-40d0-b5a4-7db7aefd64a5",
    "deepnote_to_be_reexecuted": false,
    "source_hash": "57c131c2",
    "execution_start": 1618848694147,
    "execution_millis": 554,
    "deepnote_cell_type": "code"
   },
   "source": "# Plot Boundary\nutils.plotDecisionBoundary(plotData, theta, X, y)",
   "execution_count": null,
   "outputs": [
    {
     "name": "stderr",
     "text": "/shared-libs/python3.7/py-core/lib/python3.7/site-packages/ipykernel_launcher.py:27: UserWarning: color is redundantly defined by the 'color' keyword argument and the fmt string \"ko\" (-> color='k'). The keyword argument will take precedence.\n/shared-libs/python3.7/py-core/lib/python3.7/site-packages/ipykernel_launcher.py:25: UserWarning: color is redundantly defined by the 'color' keyword argument and the fmt string \"k*\" (-> color='k'). The keyword argument will take precedence.\n",
     "output_type": "stream"
    },
    {
     "data": {
      "text/plain": "<Figure size 432x288 with 1 Axes>",
      "image/png": "[encoded data removed]"
     },
     "metadata": {
      "needs_background": "light",
      "image/png": {
       "width": 384,
       "height": 252
      }
     },
     "output_type": "display_data"
    }
   ]
  },
  {
   "cell_type": "markdown",
   "source": "<a id=\"section4\"></a>\n#### 1.2.4 Evaluating logistic regression\n\nAfter learning the parameters, you can use the model to predict whether a particular student will be admitted. For a student with an Exam 1 score of 45 and an Exam 2 score of 85, you should expect to see an admission\nprobability of 0.776. Another way to evaluate the quality of the parameters we have found is to see how well the learned model predicts on our training set. In this part, your task is to complete the code in function `predict`. The predict function will produce “1” or “0” predictions given a dataset and a learned parameter vector $\\theta$. \n<a id=\"predict\"></a>",
   "metadata": {
    "cell_id": "00027-c6e71d2a-52f3-4934-bcb8-4af24d28670c",
    "deepnote_cell_type": "markdown"
   }
  },
  {
   "cell_type": "code",
   "metadata": {
    "cell_id": "00028-caf37913-c328-4759-8769-7f4367c1b9b8",
    "deepnote_to_be_reexecuted": false,
    "source_hash": "a5d5c036",
    "execution_millis": 0,
    "execution_start": 1618848940741,
    "deepnote_cell_type": "code"
   },
   "source": "def predict(theta, X):\n    \"\"\"\n    Predict whether the label is 0 or 1 using learned logistic regression.\n    Computes the predictions for X using a threshold at 0.5 \n    (i.e., if sigmoid(theta.T*x) >= 0.5, predict 1)\n    \n    Parameters\n    ----------\n    theta : array_like\n        Parameters for logistic regression. A vecotor of shape (n+1, ).\n    \n    X : array_like\n        The data to use for computing predictions. The rows is the number \n        of points to compute predictions, and columns is the number of\n        features.\n\n    Returns\n    -------\n    p : array_like\n        Predictions and 0 or 1 for each row in X. \n    \n    Instructions\n    ------------\n    Complete the following code to make predictions using your learned \n    logistic regression parameters.You should set p to a vector of 0's and 1's    \n    \"\"\"\n    m = X.shape[0] # Number of training examples\n\n    # You need to return the following variables correctly\n    p = np.zeros(m)\n\n    # ====================== YOUR CODE HERE ======================\n    res = sigmoid(theta @ X.T)\n    for i in range(len(res)):\n        if res[i] >= 0.5:\n            p[i] += 1\n    \n    # ============================================================\n    return p",
   "execution_count": null,
   "outputs": []
  },
  {
   "cell_type": "markdown",
   "source": "After you have completed the code in `predict`, we proceed to report the training accuracy of your classifier by computing the percentage of examples it got correct.",
   "metadata": {
    "cell_id": "00029-8cd307f2-5601-4dd2-996d-277817da5e4d",
    "deepnote_cell_type": "markdown"
   }
  },
  {
   "cell_type": "code",
   "metadata": {
    "cell_id": "00030-998377a3-a42c-40e7-ac0c-eb0d3baad26b",
    "deepnote_to_be_reexecuted": false,
    "source_hash": "3c0ff882",
    "execution_millis": 17,
    "execution_start": 1618848941254,
    "deepnote_cell_type": "code"
   },
   "source": "#  Predict probability for a student with score 45 on exam 1 \n#  and score 85 on exam 2 \nprob = sigmoid(np.dot([1, 45, 85], theta))\nprint('For a student with scores 45 and 85,'\n      'we predict an admission probability of {:.3f}'.format(prob))\nprint('Expected value: 0.775 +/- 0.002\\n')\n\n# Compute accuracy on our training set\np = predict(theta, X)\nprint('Train Accuracy: {:.2f} %'.format(np.mean(p == y) * 100))\nprint('Expected accuracy (approx): 89.00 %')",
   "execution_count": null,
   "outputs": [
    {
     "name": "stdout",
     "text": "For a student with scores 45 and 85,we predict an admission probability of 0.776\nExpected value: 0.775 +/- 0.002\n\nTrain Accuracy: 89.00 %\nExpected accuracy (approx): 89.00 %\n",
     "output_type": "stream"
    }
   ]
  },
  {
   "cell_type": "markdown",
   "source": "*You should now submit your solutions.*",
   "metadata": {
    "cell_id": "00031-d46735cc-177e-4ace-b251-1531cff96d2e",
    "deepnote_cell_type": "markdown"
   }
  },
  {
   "cell_type": "code",
   "metadata": {
    "cell_id": "00032-2fc454b4-cd3e-464b-b6ab-6ac7069083f8",
    "deepnote_to_be_reexecuted": false,
    "source_hash": "8599735b",
    "execution_start": 1618848945354,
    "execution_millis": 2516,
    "deepnote_cell_type": "code"
   },
   "source": "grader[4] = predict\ngrader.grade()",
   "execution_count": null,
   "outputs": [
    {
     "name": "stdout",
     "text": "\nSubmitting Solutions | Programming Exercise logistic-regression\n\n                                  Part Name |     Score | Feedback\n                                  --------- |     ----- | --------\n                           Sigmoid Function |   5 /   5 | Nice work!\n                   Logistic Regression Cost |  30 /  30 | Nice work!\n               Logistic Regression Gradient |  30 /  30 | Nice work!\n                                    Predict |   5 /   5 | Nice work!\n       Regularized Logistic Regression Cost |   0 /  15 | \n   Regularized Logistic Regression Gradient |   0 /  15 | \n                                  --------------------------------\n                                            |  70 / 100 |  \n\n",
     "output_type": "stream"
    }
   ]
  },
  {
   "cell_type": "markdown",
   "source": "## 2 Regularized logistic regression\n\nIn this part of the exercise, you will implement regularized logistic regression to predict whether microchips from a fabrication plant passes quality assurance (QA). During QA, each microchip goes through various tests to ensure it is functioning correctly.\nSuppose you are the product manager of the factory and you have the test results for some microchips on two different tests. From these two tests, you would like to determine whether the microchips should be accepted or rejected. To help you make the decision, you have a dataset of test results on past microchips, from which you can build a logistic regression model.\n\nFirst, we load the data from a CSV file:",
   "metadata": {
    "cell_id": "00033-184a955f-7006-457b-b467-00ebd5b0358d",
    "deepnote_cell_type": "markdown"
   }
  },
  {
   "cell_type": "code",
   "metadata": {
    "cell_id": "00034-8860f379-e708-4202-84f6-6100f443f541",
    "deepnote_to_be_reexecuted": false,
    "source_hash": "744fb2c",
    "execution_start": 1618848952639,
    "execution_millis": 11,
    "deepnote_cell_type": "code"
   },
   "source": "# Load Data\n# The first two columns contains the X values and the third column\n# contains the label (y).\ndata = np.loadtxt(os.path.join('Data', 'ex2data2.txt'), delimiter=',')\nX = data[:, :2]\ny = data[:, 2]",
   "execution_count": null,
   "outputs": []
  },
  {
   "cell_type": "markdown",
   "source": "### 2.1 Visualize the data\n\nSimilar to the previous parts of this exercise, `plotData` is used to generate a figure, where the axes are the two test scores, and the positive (y = 1, accepted) and negative (y = 0, rejected) examples are shown with\ndifferent markers.",
   "metadata": {
    "cell_id": "00035-dd02aaf5-10f1-4a5a-85bc-f7dd2166c5a9",
    "deepnote_cell_type": "markdown"
   }
  },
  {
   "cell_type": "code",
   "metadata": {
    "cell_id": "00036-23fcc510-c7cd-48a3-a644-021aa908ce55",
    "deepnote_to_be_reexecuted": false,
    "source_hash": "7451654c",
    "execution_start": 1618848954008,
    "execution_millis": 448,
    "deepnote_cell_type": "code"
   },
   "source": "plotData(X, y)\n# Labels and Legend\npyplot.xlabel('Microchip Test 1')\npyplot.ylabel('Microchip Test 2')\n\n# Specified in plot order\npyplot.legend(['y = 1', 'y = 0'], loc='upper right')\npass",
   "execution_count": null,
   "outputs": [
    {
     "name": "stderr",
     "text": "/shared-libs/python3.7/py-core/lib/python3.7/site-packages/ipykernel_launcher.py:25: UserWarning: color is redundantly defined by the 'color' keyword argument and the fmt string \"k*\" (-> color='k'). The keyword argument will take precedence.\n/shared-libs/python3.7/py-core/lib/python3.7/site-packages/ipykernel_launcher.py:27: UserWarning: color is redundantly defined by the 'color' keyword argument and the fmt string \"ko\" (-> color='k'). The keyword argument will take precedence.\n",
     "output_type": "stream"
    },
    {
     "data": {
      "text/plain": "<Figure size 432x288 with 1 Axes>",
      "image/png": "[encoded data removed]"
     },
     "metadata": {
      "needs_background": "light",
      "image/png": {
       "width": 400,
       "height": 262
      }
     },
     "output_type": "display_data"
    }
   ]
  },
  {
   "cell_type": "markdown",
   "source": "The above figure shows that our dataset cannot be separated into positive and negative examples by a straight-line through the plot. Therefore, a straight-forward application of logistic regression will not perform well on this dataset since logistic regression will only be able to find a linear decision boundary.\n\n### 2.2 Feature mapping\n\nOne way to fit the data better is to create more features from each data point. In the function `mapFeature` defined in the file `utils.py`, we will map the features into all polynomial terms of $x_1$ and $x_2$ up to the sixth power.\n\n$$ \\text{mapFeature}(x) = \\begin{bmatrix} 1 & x_1 & x_2 & x_1^2 & x_1 x_2 & x_2^2 & x_1^3 & \\dots & x_1 x_2^5 & x_2^6 \\end{bmatrix}^T $$\n\nAs a result of this mapping, our vector of two features (the scores on two QA tests) has been transformed into a 28-dimensional vector. A logistic regression classifier trained on this higher-dimension feature vector will have a more complex decision boundary and will appear nonlinear when drawn in our 2-dimensional plot.\nWhile the feature mapping allows us to build a more expressive classifier, it also more susceptible to overfitting. In the next parts of the exercise, you will implement regularized logistic regression to fit the data and also see for yourself how regularization can help combat the overfitting problem.\n",
   "metadata": {
    "cell_id": "00037-4aa7f165-90fe-4060-930a-e04eed57c68a",
    "deepnote_cell_type": "markdown"
   }
  },
  {
   "cell_type": "code",
   "metadata": {
    "cell_id": "00038-d301873e-e62d-43d0-bd0b-f6b7e6001e28",
    "deepnote_to_be_reexecuted": false,
    "source_hash": "f0949dc7",
    "execution_start": 1618848957848,
    "execution_millis": 2,
    "deepnote_cell_type": "code"
   },
   "source": "# Note that mapFeature also adds a column of ones for us, so the intercept\n# term is handled\nX = utils.mapFeature(X[:, 0], X[:, 1])",
   "execution_count": null,
   "outputs": []
  },
  {
   "cell_type": "markdown",
   "source": "<a id=\"section5\"></a>\n### 2.3 Cost function and gradient\n\nNow you will implement code to compute the cost function and gradient for regularized logistic regression. Complete the code for the function `costFunctionReg` below to return the cost and gradient.\n\nRecall that the regularized cost function in logistic regression is\n\n$$ J(\\theta) = \\frac{1}{m} \\sum_{i=1}^m \\left[ -y^{(i)}\\log \\left( h_\\theta \\left(x^{(i)} \\right) \\right) - \\left( 1 - y^{(i)} \\right) \\log \\left( 1 - h_\\theta \\left( x^{(i)} \\right) \\right) \\right] + \\frac{\\lambda}{2m} \\sum_{j=1}^n \\theta_j^2 $$\n\nNote that you should not regularize the parameters $\\theta_0$. The gradient of the cost function is a vector where the $j^{th}$ element is defined as follows:\n\n$$ \\frac{\\partial J(\\theta)}{\\partial \\theta_0} = \\frac{1}{m} \\sum_{i=1}^m \\left( h_\\theta \\left(x^{(i)}\\right) - y^{(i)} \\right) x_j^{(i)} \\qquad \\text{for } j =0 $$\n\n$$ \\frac{\\partial J(\\theta)}{\\partial \\theta_j} = \\left( \\frac{1}{m} \\sum_{i=1}^m \\left( h_\\theta \\left(x^{(i)}\\right) - y^{(i)} \\right) x_j^{(i)} \\right) + \\frac{\\lambda}{m}\\theta_j \\qquad \\text{for } j \\ge 1 $$\n<a id=\"costFunctionReg\"></a>",
   "metadata": {
    "cell_id": "00039-6330e326-deb0-41b0-974e-034447e5918e",
    "deepnote_cell_type": "markdown"
   }
  },
  {
   "cell_type": "code",
   "metadata": {
    "cell_id": "00040-367a98dc-618e-4e5d-8e8f-3e3695b09842",
    "deepnote_to_be_reexecuted": false,
    "source_hash": "62c33b06",
    "execution_millis": 0,
    "execution_start": 1618850604437,
    "deepnote_cell_type": "code"
   },
   "source": "def costFunctionReg(theta, X, y, lambda_):\n    \"\"\"\n    Compute cost and gradient for logistic regression with regularization.\n    \n    Parameters\n    ----------\n    theta : array_like\n        Logistic regression parameters. A vector with shape (n, ). n is \n        the number of features including any intercept. If we have mapped\n        our initial features into polynomial features, then n is the total \n        number of polynomial features. \n    \n    X : array_like\n        The data set with shape (m x n). m is the number of examples, and\n        n is the number of features (after feature mapping).\n    \n    y : array_like\n        The data labels. A vector with shape (m, ).\n    \n    lambda_ : float\n        The regularization parameter. \n    \n    Returns\n    -------\n    J : float\n        The computed value for the regularized cost function. \n    \n    grad : array_like\n        A vector of shape (n, ) which is the gradient of the cost\n        function with respect to theta, at the current values of theta.\n    \n    Instructions\n    ------------\n    Compute the cost `J` of a particular choice of theta.\n    Compute the partial derivatives and set `grad` to the partial\n    derivatives of the cost w.r.t. each parameter in theta.\n    \"\"\"\n    # Initialize some useful values\n    m = y.size  # number of training examples\n\n    # You need to return the following variables correctly \n    J = 0\n    grad = np.zeros(theta.shape)\n    \n    theta_1 = np.concatenate((np.zeros(1),theta[1:]),axis = 0)\n    theta_2 = theta[1:]\n\n    # ===================== YOUR CODE HERE ======================\n    hypo = sigmoid(theta @ X.T)\n    temp_r = np.zeros(m)\n\n    for p in range(m):\n        temp_r[p]= -y[p] * np.log(sigmoid(np.dot(X[p],theta))) - (1 - y[p]) * np.log(1 - sigmoid(np.dot(X[p],theta)))\n        #np.dot(y,np.log(sigmoid(np.dot(X,theta)))) - np.dot((1 - y),np.log(1 - sigmoid(np.dot(X,theta))))\n        \n    J = np.mean(temp_r) + np.dot(theta_1,theta_1.T)* lambda_/(2*m)\n\n\n    grad = np.dot(X.T, sigmoid(np.dot(X, theta))-y) /m + lambda_/m * theta\n    grad[0] -= lambda_/m * theta[0]\n\n    # =============================================================\n    return J, grad",
   "execution_count": null,
   "outputs": []
  },
  {
   "cell_type": "markdown",
   "source": "Once you are done with the `costFunctionReg`, we call it below using the initial value of $\\theta$ (initialized to all zeros), and also another test case where $\\theta$ is all ones.",
   "metadata": {
    "cell_id": "00041-e50a2f4d-0edb-4754-a7c0-ba33fdc4a94b",
    "deepnote_cell_type": "markdown"
   }
  },
  {
   "cell_type": "code",
   "metadata": {
    "cell_id": "00042-40200b1b-52b5-467f-a2ff-a3478b26df4b",
    "deepnote_to_be_reexecuted": false,
    "source_hash": "e0b5348a",
    "execution_millis": 32,
    "execution_start": 1618850604816,
    "deepnote_cell_type": "code"
   },
   "source": "# Initialize fitting parameters\ninitial_theta = np.zeros(X.shape[1])\n\n# Set regularization parameter lambda to 1\n# DO NOT use `lambda` as a variable name in python\n# because it is a python keyword\nlambda_ = 1\n\n# Compute and display initial cost and gradient for regularized logistic\n# regression\ncost, grad = costFunctionReg(initial_theta, X, y, lambda_)\n\nprint('Cost at initial theta (zeros): {:.3f}'.format(cost))\nprint('Expected cost (approx)       : 0.693\\n')\n\nprint('Gradient at initial theta (zeros) - first five values only:')\nprint('\\t[{:.4f}, {:.4f}, {:.4f}, {:.4f}, {:.4f}]'.format(*grad[:5]))\nprint('Expected gradients (approx) - first five values only:')\nprint('\\t[0.0085, 0.0188, 0.0001, 0.0503, 0.0115]\\n')\n\n\n# Compute and display cost and gradient\n# with all-ones theta and lambda = 10\ntest_theta = np.ones(X.shape[1])\ncost, grad = costFunctionReg(test_theta, X, y, 10)\n\nprint('------------------------------\\n')\nprint('Cost at test theta    : {:.2f}'.format(cost))\nprint('Expected cost (approx): 3.16\\n')\n\nprint('Gradient at test theta - first five values only:')\nprint('\\t[{:.4f}, {:.4f}, {:.4f}, {:.4f}, {:.4f}]'.format(*grad[:5]))\nprint('Expected gradients (approx) - first five values only:')\nprint('\\t[0.3460, 0.1614, 0.1948, 0.2269, 0.0922]')",
   "execution_count": null,
   "outputs": [
    {
     "name": "stdout",
     "text": "Cost at initial theta (zeros): 0.693\nExpected cost (approx)       : 0.693\n\nGradient at initial theta (zeros) - first five values only:\n\t[0.0085, 0.0188, 0.0001, 0.0503, 0.0115]\nExpected gradients (approx) - first five values only:\n\t[0.0085, 0.0188, 0.0001, 0.0503, 0.0115]\n\n------------------------------\n\nCost at test theta    : 3.16\nExpected cost (approx): 3.16\n\nGradient at test theta - first five values only:\n\t[0.3460, 0.1614, 0.1948, 0.2269, 0.0922]\nExpected gradients (approx) - first five values only:\n\t[0.3460, 0.1614, 0.1948, 0.2269, 0.0922]\n",
     "output_type": "stream"
    }
   ]
  },
  {
   "cell_type": "markdown",
   "source": "*You should now submit your solutions.*",
   "metadata": {
    "cell_id": "00043-a49274bc-d8d2-45f6-9a2d-89b2a7a436b9",
    "deepnote_cell_type": "markdown"
   }
  },
  {
   "cell_type": "code",
   "metadata": {
    "cell_id": "00044-2f2f91e0-4855-4a44-af74-fb3cd3f378ff",
    "deepnote_to_be_reexecuted": false,
    "source_hash": "59f2022a",
    "execution_millis": 2693,
    "execution_start": 1618850607572,
    "deepnote_cell_type": "code"
   },
   "source": "grader[5] = costFunctionReg\ngrader[6] = costFunctionReg\ngrader.grade()",
   "execution_count": null,
   "outputs": [
    {
     "name": "stdout",
     "text": "\nSubmitting Solutions | Programming Exercise logistic-regression\n\n                                  Part Name |     Score | Feedback\n                                  --------- |     ----- | --------\n                           Sigmoid Function |   5 /   5 | Nice work!\n                   Logistic Regression Cost |  30 /  30 | Nice work!\n               Logistic Regression Gradient |  30 /  30 | Nice work!\n                                    Predict |   5 /   5 | Nice work!\n       Regularized Logistic Regression Cost |  15 /  15 | Nice work!\n   Regularized Logistic Regression Gradient |  15 /  15 | Nice work!\n                                  --------------------------------\n                                            | 100 / 100 |  \n\n",
     "output_type": "stream"
    }
   ]
  },
  {
   "cell_type": "markdown",
   "source": "#### 2.3.1 Learning parameters using `scipy.optimize.minimize`\n\nSimilar to the previous parts, you will use `optimize.minimize` to learn the optimal parameters $\\theta$. If you have completed the cost and gradient for regularized logistic regression (`costFunctionReg`) correctly, you should be able to step through the next part of to learn the parameters $\\theta$ using `optimize.minimize`.",
   "metadata": {
    "cell_id": "00045-cdafc4cc-5b13-4e20-9f8b-468af5e32be8",
    "deepnote_cell_type": "markdown"
   }
  },
  {
   "cell_type": "markdown",
   "source": "### 2.4 Plotting the decision boundary\n\nTo help you visualize the model learned by this classifier, we have provided the function `plotDecisionBoundary` which plots the (non-linear) decision boundary that separates the positive and negative examples. In `plotDecisionBoundary`, we plot the non-linear decision boundary by computing the classifier’s predictions on an evenly spaced grid and then and draw a contour plot where the predictions change from y = 0 to y = 1. ",
   "metadata": {
    "cell_id": "00046-ad5c9321-dc49-4fe0-859c-b99fc824d962",
    "deepnote_cell_type": "markdown"
   }
  },
  {
   "cell_type": "markdown",
   "source": "### 2.5 Optional (ungraded) exercises\n\nIn this part of the exercise, you will get to try out different regularization parameters for the dataset to understand how regularization prevents overfitting.\n\nNotice the changes in the decision boundary as you vary $\\lambda$. With a small\n$\\lambda$, you should find that the classifier gets almost every training example correct, but draws a very complicated boundary, thus overfitting the data. See the following figures for the decision boundaries you should get for different values of $\\lambda$. \n\n<table>\n    <tr>\n        <td style=\"text-align:center\">\n            No regularization (overfitting)<img src=\"Figures/decision_boundary3.png\">\n        </td>        \n        <td style=\"text-align:center\">\n            Decision boundary with regularization\n            <img src=\"Figures/decision_boundary2.png\">\n        </td>\n        <td style=\"text-align:center\">\n            Decision boundary with too much regularization\n            <img src=\"Figures/decision_boundary4.png\">\n        </td>        \n    <tr>\n</table>\n\nThis is not a good decision boundary: for example, it predicts that a point at $x = (−0.25, 1.5)$ is accepted $(y = 1)$, which seems to be an incorrect decision given the training set.\nWith a larger $\\lambda$, you should see a plot that shows an simpler decision boundary which still separates the positives and negatives fairly well. However, if $\\lambda$ is set to too high a value, you will not get a good fit and the decision boundary will not follow the data so well, thus underfitting the data.",
   "metadata": {
    "cell_id": "00047-b1d2d20b-2a2f-4c2f-bded-b57cb7e17c5f",
    "deepnote_cell_type": "markdown"
   }
  },
  {
   "cell_type": "code",
   "metadata": {
    "cell_id": "00048-814bf7c5-ab14-458e-a649-5fbeded91fa0",
    "deepnote_cell_type": "code"
   },
   "source": "# Initialize fitting parameters\ninitial_theta = np.zeros(X.shape[1])\n\n# Set regularization parameter lambda to 1 (you should vary this)\nlambda_ = 1\n\n# set options for optimize.minimize\noptions= {'maxiter': 100}\n\nres = optimize.minimize(costFunctionReg,\n                        initial_theta,\n                        (X, y, lambda_),\n                        jac=True,\n                        method='TNC',\n                        options=options)\n\n# the fun property of OptimizeResult object returns\n# the value of costFunction at optimized theta\ncost = res.fun\n\n# the optimized theta is in the x property of the result\ntheta = res.x\n\nutils.plotDecisionBoundary(plotData, theta, X, y)\npyplot.xlabel('Microchip Test 1')\npyplot.ylabel('Microchip Test 2')\npyplot.legend(['y = 1', 'y = 0'])\npyplot.grid(False)\npyplot.title('lambda = %0.2f' % lambda_)\n\n# Compute accuracy on our training set\np = predict(theta, X)\n\nprint('Train Accuracy: %.1f %%' % (np.mean(p == y) * 100))\nprint('Expected accuracy (with lambda = 1): 83.1 % (approx)\\n')\n",
   "execution_count": null,
   "outputs": []
  },
  {
   "cell_type": "markdown",
   "source": "*You do not need to submit any solutions for these optional (ungraded) exercises.*",
   "metadata": {
    "cell_id": "00049-215af5c3-5191-4b15-9148-02688a325581",
    "deepnote_cell_type": "markdown"
   }
  },
  {
   "cell_type": "markdown",
   "source": "<a style='text-decoration:none;line-height:16px;display:flex;color:#5B5B62;padding:10px;justify-content:end;' href='https://deepnote.com?utm_source=created-in-deepnote-cell&projectId=0d900e85-7190-4800-b8dc-0d607a01004d' target=\"_blank\">\n<img alt='Created in deepnote.com' style='display:inline;max-height:16px;margin:0px;margin-right:7.5px;' src='data:image/svg+xml;base64,PD94bWwgdmVyc2lvbj0iMS4wIiBlbmNvZGluZz0iVVRGLTgiPz4KPHN2ZyB3aWR0aD0iODBweCIgaGVpZ2h0PSI4MHB4IiB2aWV3Qm94PSIwIDAgODAgODAiIHZlcnNpb249IjEuMSIgeG1sbnM9Imh0dHA6Ly93d3cudzMub3JnLzIwMDAvc3ZnIiB4bWxuczp4bGluaz0iaHR0cDovL3d3dy53My5vcmcvMTk5OS94bGluayI+CiAgICA8IS0tIEdlbmVyYXRvcjogU2tldGNoIDU0LjEgKDc2NDkwKSAtIGh0dHBzOi8vc2tldGNoYXBwLmNvbSAtLT4KICAgIDx0aXRsZT5Hcm91cCAzPC90aXRsZT4KICAgIDxkZXNjPkNyZWF0ZWQgd2l0aCBTa2V0Y2guPC9kZXNjPgogICAgPGcgaWQ9IkxhbmRpbmciIHN0cm9rZT0ibm9uZSIgc3Ryb2tlLXdpZHRoPSIxIiBmaWxsPSJub25lIiBmaWxsLXJ1bGU9ImV2ZW5vZGQiPgogICAgICAgIDxnIGlkPSJBcnRib2FyZCIgdHJhbnNmb3JtPSJ0cmFuc2xhdGUoLTEyMzUuMDAwMDAwLCAtNzkuMDAwMDAwKSI+CiAgICAgICAgICAgIDxnIGlkPSJHcm91cC0zIiB0cmFuc2Zvcm09InRyYW5zbGF0ZSgxMjM1LjAwMDAwMCwgNzkuMDAwMDAwKSI+CiAgICAgICAgICAgICAgICA8cG9seWdvbiBpZD0iUGF0aC0yMCIgZmlsbD0iIzAyNjVCNCIgcG9pbnRzPSIyLjM3NjIzNzYyIDgwIDM4LjA0NzY2NjcgODAgNTcuODIxNzgyMiA3My44MDU3NTkyIDU3LjgyMTc4MjIgMzIuNzU5MjczOSAzOS4xNDAyMjc4IDMxLjY4MzE2ODMiPjwvcG9seWdvbj4KICAgICAgICAgICAgICAgIDxwYXRoIGQ9Ik0zNS4wMDc3MTgsODAgQzQyLjkwNjIwMDcsNzYuNDU0OTM1OCA0Ny41NjQ5MTY3LDcxLjU0MjI2NzEgNDguOTgzODY2LDY1LjI2MTk5MzkgQzUxLjExMjI4OTksNTUuODQxNTg0MiA0MS42NzcxNzk1LDQ5LjIxMjIyODQgMjUuNjIzOTg0Niw0OS4yMTIyMjg0IEMyNS40ODQ5Mjg5LDQ5LjEyNjg0NDggMjkuODI2MTI5Niw0My4yODM4MjQ4IDM4LjY0NzU4NjksMzEuNjgzMTY4MyBMNzIuODcxMjg3MSwzMi41NTQ0MjUgTDY1LjI4MDk3Myw2Ny42NzYzNDIxIEw1MS4xMTIyODk5LDc3LjM3NjE0NCBMMzUuMDA3NzE4LDgwIFoiIGlkPSJQYXRoLTIyIiBmaWxsPSIjMDAyODY4Ij48L3BhdGg+CiAgICAgICAgICAgICAgICA8cGF0aCBkPSJNMCwzNy43MzA0NDA1IEwyNy4xMTQ1MzcsMC4yNTcxMTE0MzYgQzYyLjM3MTUxMjMsLTEuOTkwNzE3MDEgODAsMTAuNTAwMzkyNyA4MCwzNy43MzA0NDA1IEM4MCw2NC45NjA0ODgyIDY0Ljc3NjUwMzgsNzkuMDUwMzQxNCAzNC4zMjk1MTEzLDgwIEM0Ny4wNTUzNDg5LDc3LjU2NzA4MDggNTMuNDE4MjY3Nyw3MC4zMTM2MTAzIDUzLjQxODI2NzcsNTguMjM5NTg4NSBDNTMuNDE4MjY3Nyw0MC4xMjg1NTU3IDM2LjMwMzk1NDQsMzcuNzMwNDQwNSAyNS4yMjc0MTcsMzcuNzMwNDQwNSBDMTcuODQzMDU4NiwzNy43MzA0NDA1IDkuNDMzOTE5NjYsMzcuNzMwNDQwNSAwLDM3LjczMDQ0MDUgWiIgaWQ9IlBhdGgtMTkiIGZpbGw9IiMzNzkzRUYiPjwvcGF0aD4KICAgICAgICAgICAgPC9nPgogICAgICAgIDwvZz4KICAgIDwvZz4KPC9zdmc+' > </img>\nCreated in <span style='font-weight:600;margin-left:4px;'>Deepnote</span></a>",
   "metadata": {
    "tags": [],
    "created_in_deepnote_cell": true,
    "deepnote_cell_type": "markdown"
   }
  }
 ],
 "nbformat": 4,
 "nbformat_minor": 2,
 "metadata": {
  "kernelspec": {
   "display_name": "Python 3",
   "language": "python",
   "name": "python3"
  },
  "language_info": {
   "codemirror_mode": {
    "name": "ipython",
    "version": 3
   },
   "file_extension": ".py",
   "mimetype": "text/x-python",
   "name": "python",
   "nbconvert_exporter": "python",
   "pygments_lexer": "ipython3",
   "version": "3.6.4"
  },
  "deepnote_notebook_id": "bd067d3d-6e78-43e5-8ecc-2becf45be5db",
  "deepnote": {},
  "deepnote_execution_queue": []
 }
}